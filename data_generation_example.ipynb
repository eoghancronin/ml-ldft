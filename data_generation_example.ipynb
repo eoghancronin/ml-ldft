{
 "cells": [
  {
   "cell_type": "code",
   "execution_count": 1,
   "id": "d64e0ef1-4e0d-4603-a580-d3b3c3d1b332",
   "metadata": {},
   "outputs": [
    {
     "name": "stderr",
     "output_type": "stream",
     "text": [
      "/home/eoghanc/anaconda3/envs/ml-ldft-repo/lib/python3.8/site-packages/tenpy/tools/optimization.py:307: UserWarning: Couldn't load compiled cython code. Code will run a bit slower.\n",
      "  warnings.warn(\"Couldn't load compiled cython code. Code will run a bit slower.\")\n",
      "/home/eoghanc/anaconda3/envs/ml-ldft-repo/lib/python3.8/site-packages/tenpy/models/fermions_hubbard.py:22: UserWarning: RESTRUCTURING\n",
      "***********\n",
      "* WARNING:\n",
      "* The signs of hopping and chemical potential parameters were changed to the usual conventions!\n",
      "* Moreover, \"bose_hubbard.py\" and \"fermions_hubbard.py\" models have now been consolidated into \"hubbard.py\".\n",
      "***********\n",
      "To avoid this warning, simply import the model class from `tenpy.models.hubbard` instead of `tenpy.models.fermions_hubbard`.\n",
      "  warnings.warn(msg)\n",
      "/home/eoghanc/anaconda3/envs/ml-ldft-repo/lib/python3.8/site-packages/tenpy/models/fermions_hubbard.py:23: FutureWarning: The module `tenpy.models.fermions_hubbard` is deprecated now.\n",
      "  warnings.warn(\"The module `tenpy.models.fermions_hubbard` is deprecated now.\", FutureWarning)\n"
     ]
    }
   ],
   "source": [
    "import tenpy\n",
    "from tenpy.models.fermions_hubbard import FermionicHubbardChain\n",
    "from tenpy.networks.mps import MPS\n",
    "from tenpy.algorithms import dmrg\n",
    "import time\n",
    "import numpy as np\n",
    "import json\n",
    "from tools import solve_nonint\n",
    "from scipy.optimize import minimize as minimize"
   ]
  },
  {
   "cell_type": "code",
   "execution_count": 2,
   "id": "d9ce3853-4086-4c8c-9e8a-b2bd58d0e0e0",
   "metadata": {},
   "outputs": [],
   "source": [
    "L=18\n",
    "N=L//3\n",
    "x = (L+1)/2\n",
    "\n",
    "delta = np.sqrt(np.linspace(0,9,5)) # This distribution of the magnitude of disorder gives a good corresponding distribution of the densities\n",
    "num = len(delta)\n",
    "\n",
    "model_params = dict(cons_N='N', cons_Sz='Sz', t=1, U=4, mu=0, V=0, lattice=\"Chain\", bc_MPS='finite',\n",
    "                        order='default', L=L)\n",
    "product_state = [\"up\", \"down\",0]*(L//3)\n",
    "n_up = np.zeros((num, L))\n",
    "n_dn = np.zeros((num, L))\n",
    "v = np.zeros((num, L))\n",
    "v_hxc = np.zeros((num, L))\n",
    "norms = np.zeros(num)\n",
    "d_err = np.zeros(num)\n",
    "e = np.zeros(num)\n",
    "emv = np.zeros(num)\n",
    "e_ni = np.zeros(num)\n",
    "e_hxc = np.zeros(num)\n",
    "times = np.zeros(num)"
   ]
  },
  {
   "cell_type": "code",
   "execution_count": 3,
   "id": "e3a71845-7e80-4eda-bc34-45cad996a881",
   "metadata": {},
   "outputs": [
    {
     "name": "stdout",
     "output_type": "stream",
     "text": [
      "1/5 DMRG calculations completed\n",
      "DMRG time 113.53052544593811\n",
      "DMRG truncation error 2.773537746156809e-09\n",
      "2/5 DMRG calculations completed\n",
      "DMRG time 116.32465982437134\n",
      "DMRG truncation error 3.6937758752208224e-09\n",
      "3/5 DMRG calculations completed\n",
      "DMRG time 112.25773692131042\n",
      "DMRG truncation error 1.7519115453542324e-09\n",
      "4/5 DMRG calculations completed\n",
      "DMRG time 117.3751871585846\n",
      "DMRG truncation error 2.36727153355527e-09\n",
      "5/5 DMRG calculations completed\n",
      "DMRG time 110.49612236022949\n",
      "DMRG truncation error 7.331621911229003e-10\n"
     ]
    }
   ],
   "source": [
    "########## DMRG ###########\n",
    "for a, w in enumerate(delta):\n",
    "    x = FermionicHubbardChain(model_params)\n",
    "    x.manually_call_init_H = True\n",
    "    V = w*np.random.random(L); V=V-np.mean(V)\n",
    "    #V = efield(w, L)\n",
    "    for b, y in enumerate(V):\n",
    "        x.add_onsite_term(strength = y , i=b, op = 'Cdd Cd')\n",
    "        x.add_onsite_term(strength = y , i=b, op = 'Cdu Cu')\n",
    "    x.init_H_from_terms()\n",
    "    psi = MPS.from_product_state(x.lat.mps_sites(), product_state, bc=x.lat.bc_MPS)\n",
    "    dmrg_params = {\n",
    "            'active_sites': 2,\n",
    "            'mixer': False,\n",
    "            'trunc_params': {'chi_max': 350},\n",
    "            'N_sweeps_check': 10,\n",
    "            'norm_tol':1E-6,\n",
    "            'max_hours': 1}\n",
    "    t1 = time.time()\n",
    "    info = dmrg.run(psi, x, dmrg_params)\n",
    "    times[a] = time.time() - t1\n",
    "    n_dn[a] = psi.expectation_value('Cdd Cd', [i for i in range(L)])\n",
    "    n_up[a] = psi.expectation_value('Cdu Cu', [i for i in range(L)])\n",
    "    e[a] = info['E']\n",
    "    emv[a] = e[a] - np.dot(n_up[a] + n_dn[a], V)\n",
    "    v[a] = V\n",
    "    norms[a] = info['sweep_statistics']['norm_err'][-1]\n",
    "    print(str(a + 1)+'/'+str(num)+' DMRG calculations completed')\n",
    "    print('DMRG time '+str(time.time() - t1))\n",
    "    print('DMRG truncation error '+str(norms[a]))"
   ]
  },
  {
   "cell_type": "code",
   "execution_count": 4,
   "id": "f45919c7-7867-4938-b506-e9fd289e3ec0",
   "metadata": {},
   "outputs": [
    {
     "name": "stdout",
     "output_type": "stream",
     "text": [
      "1/5 Reverse-engineering calculations completed\n",
      "Reverse-engineering time 0.3222846984863281\n",
      "Reverse engineering error 1.5022721427846488e-08\n",
      "2/5 Reverse-engineering calculations completed\n",
      "Reverse-engineering time 0.25910210609436035\n",
      "Reverse engineering error 1.1677965778024764e-08\n",
      "3/5 Reverse-engineering calculations completed\n",
      "Reverse-engineering time 0.26981377601623535\n",
      "Reverse engineering error 2.722773248604518e-09\n",
      "4/5 Reverse-engineering calculations completed\n",
      "Reverse-engineering time 0.24805903434753418\n",
      "Reverse engineering error 4.7408260506099486e-08\n",
      "5/5 Reverse-engineering calculations completed\n",
      "Reverse-engineering time 0.30777931213378906\n",
      "Reverse engineering error 2.3976425796006243e-09\n"
     ]
    }
   ],
   "source": [
    "######### Reverse engineering the density ###########\n",
    "def cost_n(n,v, states):\n",
    "    def cost(vxc):\n",
    "        diag = solve_nonint(v+vxc, N, L)\n",
    "        return np.sqrt(np.sum(np.square(diag[0] - n)))\n",
    "    return cost\n",
    "\n",
    "n_ = (n_up + n_dn)/2 # They should be roughly equal anyway... The difference between the two is a numerical artefact from the DMRG and is quite small\n",
    "\n",
    "for j in range(num):\n",
    "    V = v[j]\n",
    "    n = n_[j]\n",
    "    t1 = time.time()\n",
    "    success = False\n",
    "    temp_cost = cost_n(n, V, N)\n",
    "    pred = minimize(temp_cost, np.zeros(L),method = 'BFGS', jac = '2-point', options = {'finite_diff_rel_step':1E-9})\n",
    "    if pred.fun < 1E-6:\n",
    "        success = True\n",
    "    if success == True:\n",
    "        result = solve_nonint(V + pred.x, N, L)\n",
    "        e_ni[j] = result[1] - np.dot(V+pred.x, result[0])\n",
    "        d_err[j] = pred.fun\n",
    "        v_hxc[j] = pred.x - np.mean(pred.x)\n",
    "        print(str(j + 1)+'/'+str(num)+' Reverse-engineering calculations completed')\n",
    "        print('Reverse-engineering time', time.time() - t1)\n",
    "        print('Reverse engineering error '+str(d_err[j]))"
   ]
  },
  {
   "cell_type": "code",
   "execution_count": 7,
   "id": "c890de4a-7287-4a46-ac30-63673b222831",
   "metadata": {},
   "outputs": [],
   "source": [
    "e_hxc = emv - 2*e_ni\n",
    "\n",
    "data = {'L': L, \n",
    "     'num' : num, \n",
    "     'n_up': n_up.tolist(), \n",
    "     'n_dn': n_dn.tolist(), \n",
    "     'e_mb': emv.tolist(), \n",
    "     'v': v.tolist(),\n",
    "     'e_hxc': e_hxc.tolist(),\n",
    "     'v_hxc': v_hxc.tolist(), \n",
    "     'norm_tol': norms.tolist(), \n",
    "     'reverse_engineering_error': d_err.tolist()}\n",
    "\n",
    "# Uncomment below to save the data\n",
    "\n",
    "#with open('data_json/exact_data/L'+str(L)+'_num'+str(num)+'_test.json', 'w') as f2:\n",
    "#        json.dump(data, f2)\n"
   ]
  },
  {
   "cell_type": "code",
   "execution_count": null,
   "id": "67eb7e33-da8e-4660-8362-524c1262f966",
   "metadata": {},
   "outputs": [],
   "source": []
  }
 ],
 "metadata": {
  "kernelspec": {
   "display_name": "Python 3 (ipykernel)",
   "language": "python",
   "name": "python3"
  },
  "language_info": {
   "codemirror_mode": {
    "name": "ipython",
    "version": 3
   },
   "file_extension": ".py",
   "mimetype": "text/x-python",
   "name": "python",
   "nbconvert_exporter": "python",
   "pygments_lexer": "ipython3",
   "version": "3.8.20"
  }
 },
 "nbformat": 4,
 "nbformat_minor": 5
}
